{
 "cells": [
  {
   "cell_type": "code",
   "execution_count": 25,
   "id": "d9abea5b",
   "metadata": {},
   "outputs": [],
   "source": [
    "import os\n",
    "import pandas as pd\n",
    "import numpy as np\n",
    "import librosa\n",
    "import joblib\n",
    "import matplotlib.pyplot as plt\n",
    "from sklearn.ensemble import RandomForestClassifier\n",
    "from sklearn.preprocessing import LabelEncoder, StandardScaler\n",
    "from sklearn.model_selection import train_test_split, GridSearchCV, StratifiedKFold\n",
    "from sklearn.metrics import classification_report, confusion_matrix\n",
    "from imblearn.over_sampling import SMOTE"
   ]
  },
  {
   "cell_type": "code",
   "execution_count": 26,
   "id": "00c52bfc",
   "metadata": {},
   "outputs": [],
   "source": [
    "# ========== Preprocessing ==========\n",
    "def preprocess_data(train_df, test_df):\n",
    "    label_encoder = LabelEncoder()\n",
    "    train_df['label'] = label_encoder.fit_transform(train_df['label'])\n",
    "    test_df['label'] = -1  # Placeholder\n",
    "    joblib.dump(label_encoder, 'label_encoder.pkl')\n",
    "    return train_df, test_df, label_encoder"
   ]
  },
  {
   "cell_type": "code",
   "execution_count": 30,
   "id": "643818c4",
   "metadata": {},
   "outputs": [],
   "source": [
    "# ========== Feature Extraction ==========\n",
    "def extract_features(file_path, n_mfcc=13):\n",
    "    try:\n",
    "        y, sr = librosa.load(file_path, sr=None)\n",
    "        mfccs = librosa.feature.mfcc(y=y, sr=sr, n_mfcc=n_mfcc)\n",
    "        mfccs_mean = np.mean(mfccs, axis=1)\n",
    "        mfccs_std = np.std(mfccs, axis=1)\n",
    "        chroma = librosa.feature.chroma_stft(y=y, sr=sr)\n",
    "        chroma_mean = np.mean(chroma, axis=1)\n",
    "        zcr = librosa.feature.zero_crossing_rate(y)\n",
    "        zcr_mean = np.mean(zcr)\n",
    "        spectral_contrast = librosa.feature.spectral_contrast(y=y, sr=sr)\n",
    "        contrast_mean = np.mean(spectral_contrast, axis=1)\n",
    "        features = np.hstack([mfccs_mean, mfccs_std, chroma_mean, [zcr_mean], contrast_mean])\n",
    "        return features\n",
    "    except Exception as e:\n",
    "        print(f\"Error with {file_path}: {e}\")\n",
    "        return np.zeros(n_mfcc*2 + 12 + 1 + 7)\n",
    "\n",
    "def extract_all_features(df, base_path=\"data/audios/\", n_mfcc=13, is_train=True):\n",
    "    features = []\n",
    "    folder = \"train\" if is_train else \"test\"\n",
    "    for filename in df[\"filename\"]:\n",
    "        full_path = os.path.join(base_path, folder, filename)\n",
    "        mfcc = extract_features(full_path, n_mfcc)\n",
    "        features.append(mfcc)\n",
    "    return np.array(features)"
   ]
  },
  {
   "cell_type": "code",
   "execution_count": 31,
   "id": "db9fce83",
   "metadata": {},
   "outputs": [],
   "source": [
    "# ========== Save/Load ==========\n",
    "def save_model_and_scaler(model, scaler, model_path=\"model/random_forest_model.pkl\", scaler_path=\"model/scaler.pkl\"):\n",
    "    os.makedirs(\"model\", exist_ok=True)\n",
    "    joblib.dump(model, model_path)\n",
    "    joblib.dump(scaler, scaler_path)\n",
    "\n",
    "def load_model_and_scaler(model_path=\"model/random_forest_model.pkl\", scaler_path=\"model/scaler.pkl\"):\n",
    "    model = joblib.load(model_path)\n",
    "    scaler = joblib.load(scaler_path)\n",
    "    return model, scaler"
   ]
  },
  {
   "cell_type": "code",
   "execution_count": 32,
   "id": "73f297b8",
   "metadata": {},
   "outputs": [],
   "source": [
    "# ========== Main Execution ==========\n",
    "# Load Data\n",
    "train_df = pd.read_csv('data/train.csv')\n",
    "test_df = pd.read_csv('data/test.csv')"
   ]
  },
  {
   "cell_type": "code",
   "execution_count": 33,
   "id": "eb7c447b",
   "metadata": {},
   "outputs": [],
   "source": [
    "# Preprocess\n",
    "train_df, test_df, label_encoder = preprocess_data(train_df, test_df)\n",
    "X_features = extract_all_features(train_df, is_train=True)\n",
    "y_labels = train_df['label'].values"
   ]
  },
  {
   "cell_type": "code",
   "execution_count": 34,
   "id": "7d242fb6",
   "metadata": {},
   "outputs": [],
   "source": [
    "# Split and Normalize\n",
    "X_train, X_val, y_train, y_val = train_test_split(X_features, y_labels, test_size=0.2, random_state=42, stratify=y_labels)\n",
    "scaler = StandardScaler()\n",
    "X_train_scaled = scaler.fit_transform(X_train)\n",
    "X_val_scaled = scaler.transform(X_val)"
   ]
  },
  {
   "cell_type": "code",
   "execution_count": 35,
   "id": "a7d12816",
   "metadata": {},
   "outputs": [],
   "source": [
    "# SMOTE\n",
    "smote = SMOTE(random_state=42, k_neighbors=1)\n",
    "X_resampled, y_resampled = smote.fit_resample(X_train_scaled, y_train)"
   ]
  },
  {
   "cell_type": "code",
   "execution_count": 36,
   "id": "cdffff2b",
   "metadata": {},
   "outputs": [
    {
     "name": "stdout",
     "output_type": "stream",
     "text": [
      "Fitting 3 folds for each of 36 candidates, totalling 108 fits\n"
     ]
    }
   ],
   "source": [
    "# Train with GridSearch\n",
    "model = RandomForestClassifier(class_weight='balanced', random_state=42)\n",
    "param_grid = {\n",
    "    'n_estimators': [50, 100, 200],\n",
    "    'max_depth': [None, 10, 20],\n",
    "    'min_samples_split': [2, 5],\n",
    "    'min_samples_leaf': [1, 2]\n",
    "}\n",
    "cv = StratifiedKFold(n_splits=3, shuffle=True, random_state=42)\n",
    "grid_search = GridSearchCV(model, param_grid, cv=cv, n_jobs=-1, verbose=2)\n",
    "grid_search.fit(X_resampled, y_resampled)\n",
    "best_model = grid_search.best_estimator_"
   ]
  },
  {
   "cell_type": "code",
   "execution_count": 37,
   "id": "46349959",
   "metadata": {},
   "outputs": [
    {
     "name": "stdout",
     "output_type": "stream",
     "text": [
      "Validation Results:\n",
      "              precision    recall  f1-score   support\n",
      "\n",
      "           2       0.46      0.67      0.55         9\n",
      "           3       0.25      0.20      0.22         5\n",
      "           4       0.46      0.60      0.52        10\n",
      "           5       0.00      0.00      0.00         4\n",
      "           6       0.46      0.35      0.40        17\n",
      "           7       0.14      0.07      0.10        14\n",
      "           8       0.54      0.67      0.60        30\n",
      "\n",
      "    accuracy                           0.45        89\n",
      "   macro avg       0.33      0.37      0.34        89\n",
      "weighted avg       0.41      0.45      0.42        89\n",
      "\n"
     ]
    }
   ],
   "source": [
    "# Evaluate\n",
    "print(\"Validation Results:\")\n",
    "evaluate_model = lambda m, x, y: print(classification_report(y, m.predict(x)))\n",
    "evaluate_model(best_model, X_val_scaled, y_val)"
   ]
  },
  {
   "cell_type": "code",
   "execution_count": 38,
   "id": "b952d0a8",
   "metadata": {},
   "outputs": [],
   "source": [
    "# Save\n",
    "save_model_and_scaler(best_model, scaler)"
   ]
  },
  {
   "cell_type": "code",
   "execution_count": 39,
   "id": "a2eb40d0",
   "metadata": {},
   "outputs": [],
   "source": [
    "# ========== Test Prediction ==========\n",
    "def preprocess_test_only(test_df, label_encoder_path='label_encoder.pkl'):\n",
    "    test_df['label'] = -1\n",
    "    return test_df"
   ]
  },
  {
   "cell_type": "code",
   "execution_count": 40,
   "id": "1308af5d",
   "metadata": {},
   "outputs": [],
   "source": [
    "# Load Model and Preprocess Test\n",
    "model, scaler = load_model_and_scaler()\n",
    "test_df = preprocess_test_only(test_df)\n",
    "X_test = extract_all_features(test_df, is_train=False)\n",
    "X_test_scaled = scaler.transform(X_test)\n",
    "y_pred = model.predict(X_test_scaled)\n",
    "decoded_predictions = label_encoder.inverse_transform(y_pred)"
   ]
  },
  {
   "cell_type": "code",
   "execution_count": 41,
   "id": "7d517046",
   "metadata": {},
   "outputs": [
    {
     "name": "stdout",
     "output_type": "stream",
     "text": [
      "✅ predictions.csv saved successfully.\n"
     ]
    }
   ],
   "source": [
    "# Save to CSV\n",
    "submission_df = test_df[['filename']].copy()\n",
    "submission_df['label'] = decoded_predictions\n",
    "submission_df.to_csv('predictions.csv', index=False)\n",
    "print(\"✅ predictions.csv saved successfully.\")"
   ]
  },
  {
   "cell_type": "code",
   "execution_count": null,
   "id": "366b9bc5",
   "metadata": {},
   "outputs": [],
   "source": []
  }
 ],
 "metadata": {
  "kernelspec": {
   "display_name": "Python 3 (ipykernel)",
   "language": "python",
   "name": "python3"
  },
  "language_info": {
   "codemirror_mode": {
    "name": "ipython",
    "version": 3
   },
   "file_extension": ".py",
   "mimetype": "text/x-python",
   "name": "python",
   "nbconvert_exporter": "python",
   "pygments_lexer": "ipython3",
   "version": "3.11.5"
  }
 },
 "nbformat": 4,
 "nbformat_minor": 5
}
